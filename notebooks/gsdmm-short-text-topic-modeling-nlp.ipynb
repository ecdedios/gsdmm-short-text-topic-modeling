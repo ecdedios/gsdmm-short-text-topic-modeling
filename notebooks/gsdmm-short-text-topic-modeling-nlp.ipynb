{
 "cells": [
  {
   "cell_type": "code",
   "execution_count": 13,
   "id": "satisfactory-funds",
   "metadata": {},
   "outputs": [],
   "source": [
    "import json \n",
    "import csv\n",
    "\n",
    "import pandas as pd"
   ]
  },
  {
   "cell_type": "code",
   "execution_count": 14,
   "id": "smoking-coating",
   "metadata": {},
   "outputs": [],
   "source": [
    "df = pd.read_json('../data/in/trump-archive.json')"
   ]
  },
  {
   "cell_type": "code",
   "execution_count": 15,
   "id": "front-rebel",
   "metadata": {},
   "outputs": [
    {
     "data": {
      "text/html": [
       "<div>\n",
       "<style scoped>\n",
       "    .dataframe tbody tr th:only-of-type {\n",
       "        vertical-align: middle;\n",
       "    }\n",
       "\n",
       "    .dataframe tbody tr th {\n",
       "        vertical-align: top;\n",
       "    }\n",
       "\n",
       "    .dataframe thead th {\n",
       "        text-align: right;\n",
       "    }\n",
       "</style>\n",
       "<table border=\"1\" class=\"dataframe\">\n",
       "  <thead>\n",
       "    <tr style=\"text-align: right;\">\n",
       "      <th></th>\n",
       "      <th>date</th>\n",
       "      <th>favorites</th>\n",
       "      <th>id</th>\n",
       "      <th>isRetweet</th>\n",
       "      <th>retweets</th>\n",
       "      <th>text</th>\n",
       "    </tr>\n",
       "  </thead>\n",
       "  <tbody>\n",
       "    <tr>\n",
       "      <th>0</th>\n",
       "      <td>2020-12-16 19:01:06</td>\n",
       "      <td>163597</td>\n",
       "      <td>1339284435456421888</td>\n",
       "      <td>False</td>\n",
       "      <td>42842</td>\n",
       "      <td>https://t.co/GgwnkrGz9U</td>\n",
       "    </tr>\n",
       "    <tr>\n",
       "      <th>1</th>\n",
       "      <td>2020-12-16 18:51:14</td>\n",
       "      <td>222413</td>\n",
       "      <td>1339281950490697728</td>\n",
       "      <td>False</td>\n",
       "      <td>52018</td>\n",
       "      <td>Chris Krebs was totally excoriated and proven ...</td>\n",
       "    </tr>\n",
       "    <tr>\n",
       "      <th>2</th>\n",
       "      <td>2020-12-16 18:33:10</td>\n",
       "      <td>246740</td>\n",
       "      <td>1339277405458997248</td>\n",
       "      <td>False</td>\n",
       "      <td>51116</td>\n",
       "      <td>Former United States Solicitor General Ken Sta...</td>\n",
       "    </tr>\n",
       "    <tr>\n",
       "      <th>3</th>\n",
       "      <td>2020-12-16 18:27:02</td>\n",
       "      <td>179518</td>\n",
       "      <td>1339275859841134592</td>\n",
       "      <td>False</td>\n",
       "      <td>38198</td>\n",
       "      <td>Senate Hearings going on LIVE @OANN, as to the...</td>\n",
       "    </tr>\n",
       "    <tr>\n",
       "      <th>4</th>\n",
       "      <td>2020-12-16 15:06:47</td>\n",
       "      <td>258927</td>\n",
       "      <td>1339225465584840704</td>\n",
       "      <td>False</td>\n",
       "      <td>53928</td>\n",
       "      <td>Perhaps the biggest difference between 2016 an...</td>\n",
       "    </tr>\n",
       "  </tbody>\n",
       "</table>\n",
       "</div>"
      ],
      "text/plain": [
       "                 date  favorites                   id  isRetweet  retweets  \\\n",
       "0 2020-12-16 19:01:06     163597  1339284435456421888      False     42842   \n",
       "1 2020-12-16 18:51:14     222413  1339281950490697728      False     52018   \n",
       "2 2020-12-16 18:33:10     246740  1339277405458997248      False     51116   \n",
       "3 2020-12-16 18:27:02     179518  1339275859841134592      False     38198   \n",
       "4 2020-12-16 15:06:47     258927  1339225465584840704      False     53928   \n",
       "\n",
       "                                                text  \n",
       "0                            https://t.co/GgwnkrGz9U  \n",
       "1  Chris Krebs was totally excoriated and proven ...  \n",
       "2  Former United States Solicitor General Ken Sta...  \n",
       "3  Senate Hearings going on LIVE @OANN, as to the...  \n",
       "4  Perhaps the biggest difference between 2016 an...  "
      ]
     },
     "execution_count": 15,
     "metadata": {},
     "output_type": "execute_result"
    }
   ],
   "source": [
    "df.head()"
   ]
  },
  {
   "cell_type": "code",
   "execution_count": null,
   "id": "interstate-isaac",
   "metadata": {},
   "outputs": [],
   "source": []
  }
 ],
 "metadata": {
  "kernelspec": {
   "display_name": "Python 3",
   "language": "python",
   "name": "python3"
  },
  "language_info": {
   "codemirror_mode": {
    "name": "ipython",
    "version": 3
   },
   "file_extension": ".py",
   "mimetype": "text/x-python",
   "name": "python",
   "nbconvert_exporter": "python",
   "pygments_lexer": "ipython3",
   "version": "3.8.7"
  }
 },
 "nbformat": 4,
 "nbformat_minor": 5
}
